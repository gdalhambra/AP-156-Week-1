{
 "metadata": {
  "language_info": {
   "codemirror_mode": {
    "name": "ipython",
    "version": 3
   },
   "file_extension": ".py",
   "mimetype": "text/x-python",
   "name": "python",
   "nbconvert_exporter": "python",
   "pygments_lexer": "ipython3",
   "version": "3.8.5-final"
  },
  "orig_nbformat": 2,
  "kernelspec": {
   "name": "python_defaultSpec_1600355499668",
   "display_name": "Python 3.8.5 32-bit"
  }
 },
 "nbformat": 4,
 "nbformat_minor": 2,
 "cells": [
  {
   "source": [
    "# Week 1\n",
    "\n",
    "Create a test for an area of a square calculator given a side length. (PfCP: 150-161)\n",
    "Run this code in Google Colab\n",
    "\n",
    "<b>Include Jupytext in your Google Colab / GitHub pipeline</b>\n",
    "\n",
    "So why not do both at the same time right?"
   ],
   "cell_type": "markdown",
   "metadata": {}
  },
  {
   "source": [
    "First we create a function that calculates the square of a side measurement 'a':"
   ],
   "cell_type": "markdown",
   "metadata": {}
  },
  {
   "cell_type": "code",
   "execution_count": 2,
   "metadata": {},
   "outputs": [],
   "source": [
    "def square(a):\n",
    "    if a >= 0:\n",
    "        return a**2"
   ]
  },
  {
   "cell_type": "code",
   "execution_count": 14,
   "metadata": {
    "tags": []
   },
   "outputs": [
    {
     "output_type": "stream",
     "name": "stdout",
     "text": "4 1.44 0.81 None\n"
    }
   ],
   "source": [
    "print(square(2), square(1.2), square(0.9), square(-2))"
   ]
  },
  {
   "source": [
    "Creating a test function which asserts the condition that the computed result is as expected:"
   ],
   "cell_type": "markdown",
   "metadata": {}
  },
  {
   "source": [
    "def test_square(b):\n",
    "    expected = b**2\n",
    "    computed = square(b)\n",
    "    assert expected == computed, \"suck\"\n",
    "    print(computed)"
   ],
   "cell_type": "code",
   "metadata": {},
   "execution_count": 12,
   "outputs": []
  },
  {
   "cell_type": "code",
   "execution_count": 13,
   "metadata": {
    "tags": []
   },
   "outputs": [
    {
     "output_type": "stream",
     "name": "stdout",
     "text": "1.9599999999999997\n"
    }
   ],
   "source": [
    "test_square(1.4)"
   ]
  },
  {
   "source": [
    "Because the expected and the calculation for the computed are constructed the same, it is expected that the assertion carries on the running of the code into printing. However, we know this to be incorrect and this error is because decimals aren't exact, they are represented as floating numbers.\n",
    "\n",
    "As there is no real remedy to this, we offer tolerance. The system is accurate up to only 16 figures and there is the system epsilon"
   ],
   "cell_type": "markdown",
   "metadata": {}
  },
  {
   "source": [
    "The following function accepts the measurement of the square's side in its first position and the expected outcome in its second."
   ],
   "cell_type": "markdown",
   "metadata": {}
  },
  {
   "cell_type": "code",
   "execution_count": 20,
   "metadata": {},
   "outputs": [],
   "source": [
    "def beta_test_square(b,c):\n",
    "    computed = square(b)\n",
    "    epsilon = 1e-12\n",
    "    assert abs(computed-c) < epsilon, \"suck\"\n",
    "    print(computed)"
   ]
  },
  {
   "cell_type": "code",
   "execution_count": 21,
   "metadata": {
    "tags": []
   },
   "outputs": [
    {
     "output_type": "stream",
     "name": "stdout",
     "text": "1.9599999999999997\n"
    }
   ],
   "source": [
    "beta_test_square(1.4,1.96)"
   ]
  }
 ]
}